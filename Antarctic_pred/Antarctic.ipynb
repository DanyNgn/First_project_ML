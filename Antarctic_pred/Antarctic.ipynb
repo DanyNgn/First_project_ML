{
 "cells": [
  {
   "cell_type": "code",
   "execution_count": 1,
   "metadata": {},
   "outputs": [],
   "source": [
    "#Importer les librairies\n",
    "import pandas as pd\n",
    "import numpy as np\n",
    "import matplotlib.pyplot as plt\n",
    "import seaborn as sns \n",
    "import math as math\n",
    "from sklearn.model_selection import train_test_split\n",
    "from sklearn.preprocessing import StandardScaler, OneHotEncoder\n",
    "from sklearn.compose import ColumnTransformer\n",
    "from sklearn.impute import SimpleImputer\n",
    "from sklearn.linear_model import LinearRegression\n",
    "from sklearn.linear_model import LogisticRegression\n",
    "from sklearn.tree import DecisionTreeClassifier\n",
    "from sklearn.ensemble import RandomForestClassifier\n",
    "from sklearn.metrics import plot_confusion_matrix"
   ]
  },
  {
   "cell_type": "code",
   "execution_count": 3,
   "metadata": {},
   "outputs": [
    {
     "data": {
      "text/html": [
       "<div>\n",
       "<style scoped>\n",
       "    .dataframe tbody tr th:only-of-type {\n",
       "        vertical-align: middle;\n",
       "    }\n",
       "\n",
       "    .dataframe tbody tr th {\n",
       "        vertical-align: top;\n",
       "    }\n",
       "\n",
       "    .dataframe thead th {\n",
       "        text-align: right;\n",
       "    }\n",
       "</style>\n",
       "<table border=\"1\" class=\"dataframe\">\n",
       "  <thead>\n",
       "    <tr style=\"text-align: right;\">\n",
       "      <th></th>\n",
       "      <th>numéro de site</th>\n",
       "      <th>Altitude (m)</th>\n",
       "      <th>longitude</th>\n",
       "      <th>latitude</th>\n",
       "      <th>années</th>\n",
       "      <th>mois</th>\n",
       "      <th>Température moyenne (℃)</th>\n",
       "      <th>Température maximale moyenne (℃)</th>\n",
       "      <th>Température minimale moyenne (℃)</th>\n",
       "    </tr>\n",
       "  </thead>\n",
       "  <tbody>\n",
       "    <tr>\n",
       "      <th>0</th>\n",
       "      <td>89828099999</td>\n",
       "      <td>3250</td>\n",
       "      <td>123,3666666</td>\n",
       "      <td>-75,1166666</td>\n",
       "      <td>1991</td>\n",
       "      <td>1</td>\n",
       "      <td>-29,35</td>\n",
       "      <td>-24,04</td>\n",
       "      <td>-36,26</td>\n",
       "    </tr>\n",
       "    <tr>\n",
       "      <th>1</th>\n",
       "      <td>89828099999</td>\n",
       "      <td>3250</td>\n",
       "      <td>123,3666666</td>\n",
       "      <td>-75,1166666</td>\n",
       "      <td>1991</td>\n",
       "      <td>2</td>\n",
       "      <td>-36,94</td>\n",
       "      <td>-30,27</td>\n",
       "      <td>-44,17</td>\n",
       "    </tr>\n",
       "    <tr>\n",
       "      <th>2</th>\n",
       "      <td>89828099999</td>\n",
       "      <td>3250</td>\n",
       "      <td>123,3666666</td>\n",
       "      <td>-75,1166666</td>\n",
       "      <td>1991</td>\n",
       "      <td>3</td>\n",
       "      <td>-50,67</td>\n",
       "      <td>-44,67</td>\n",
       "      <td>-55,84</td>\n",
       "    </tr>\n",
       "    <tr>\n",
       "      <th>3</th>\n",
       "      <td>89828099999</td>\n",
       "      <td>3250</td>\n",
       "      <td>123,3666666</td>\n",
       "      <td>-75,1166666</td>\n",
       "      <td>1991</td>\n",
       "      <td>4</td>\n",
       "      <td>-55,71</td>\n",
       "      <td>-52</td>\n",
       "      <td>-59,18</td>\n",
       "    </tr>\n",
       "    <tr>\n",
       "      <th>4</th>\n",
       "      <td>89828099999</td>\n",
       "      <td>3250</td>\n",
       "      <td>123,3666666</td>\n",
       "      <td>-75,1166666</td>\n",
       "      <td>1991</td>\n",
       "      <td>5</td>\n",
       "      <td>-67,32</td>\n",
       "      <td>-64,7</td>\n",
       "      <td>-69,42</td>\n",
       "    </tr>\n",
       "  </tbody>\n",
       "</table>\n",
       "</div>"
      ],
      "text/plain": [
       "   numéro de site  Altitude (m)    longitude     latitude  années  mois  \\\n",
       "0     89828099999          3250  123,3666666  -75,1166666    1991     1   \n",
       "1     89828099999          3250  123,3666666  -75,1166666    1991     2   \n",
       "2     89828099999          3250  123,3666666  -75,1166666    1991     3   \n",
       "3     89828099999          3250  123,3666666  -75,1166666    1991     4   \n",
       "4     89828099999          3250  123,3666666  -75,1166666    1991     5   \n",
       "\n",
       "  Température moyenne (℃) Température maximale moyenne (℃)  \\\n",
       "0                  -29,35                           -24,04   \n",
       "1                  -36,94                           -30,27   \n",
       "2                  -50,67                           -44,67   \n",
       "3                  -55,71                              -52   \n",
       "4                  -67,32                            -64,7   \n",
       "\n",
       "  Température minimale moyenne (℃)  \n",
       "0                           -36,26  \n",
       "1                           -44,17  \n",
       "2                           -55,84  \n",
       "3                           -59,18  \n",
       "4                           -69,42  "
      ]
     },
     "execution_count": 3,
     "metadata": {},
     "output_type": "execute_result"
    }
   ],
   "source": [
    "#Importer les jeux de données\n",
    "df1 = pd.read_csv(\"all1.xlsx_Sheet1.csv\")\n",
    "df2 = pd.read_csv(\"all18.xlsx_Sheet1.csv\")\n",
    "df2.head()"
   ]
  },
  {
   "cell_type": "code",
   "execution_count": 4,
   "metadata": {},
   "outputs": [
    {
     "data": {
      "text/html": [
       "<div>\n",
       "<style scoped>\n",
       "    .dataframe tbody tr th:only-of-type {\n",
       "        vertical-align: middle;\n",
       "    }\n",
       "\n",
       "    .dataframe tbody tr th {\n",
       "        vertical-align: top;\n",
       "    }\n",
       "\n",
       "    .dataframe thead th {\n",
       "        text-align: right;\n",
       "    }\n",
       "</style>\n",
       "<table border=\"1\" class=\"dataframe\">\n",
       "  <thead>\n",
       "    <tr style=\"text-align: right;\">\n",
       "      <th></th>\n",
       "      <th>numéro de site</th>\n",
       "      <th>Altitude (m)</th>\n",
       "      <th>longitude</th>\n",
       "      <th>latitude</th>\n",
       "      <th>années</th>\n",
       "      <th>mois</th>\n",
       "      <th>Température moyenne (℃)</th>\n",
       "      <th>Température maximale moyenne (℃)</th>\n",
       "      <th>Température minimale moyenne (℃)</th>\n",
       "    </tr>\n",
       "  </thead>\n",
       "  <tbody>\n",
       "    <tr>\n",
       "      <th>0</th>\n",
       "      <td>89828099999</td>\n",
       "      <td>3250</td>\n",
       "      <td>123,3666666</td>\n",
       "      <td>-75,1166666</td>\n",
       "      <td>1991</td>\n",
       "      <td>1</td>\n",
       "      <td>-29.35</td>\n",
       "      <td>-24.04</td>\n",
       "      <td>-36.26</td>\n",
       "    </tr>\n",
       "    <tr>\n",
       "      <th>1</th>\n",
       "      <td>89828099999</td>\n",
       "      <td>3250</td>\n",
       "      <td>123,3666666</td>\n",
       "      <td>-75,1166666</td>\n",
       "      <td>1991</td>\n",
       "      <td>2</td>\n",
       "      <td>-36.94</td>\n",
       "      <td>-30.27</td>\n",
       "      <td>-44.17</td>\n",
       "    </tr>\n",
       "    <tr>\n",
       "      <th>2</th>\n",
       "      <td>89828099999</td>\n",
       "      <td>3250</td>\n",
       "      <td>123,3666666</td>\n",
       "      <td>-75,1166666</td>\n",
       "      <td>1991</td>\n",
       "      <td>3</td>\n",
       "      <td>-50.67</td>\n",
       "      <td>-44.67</td>\n",
       "      <td>-55.84</td>\n",
       "    </tr>\n",
       "    <tr>\n",
       "      <th>3</th>\n",
       "      <td>89828099999</td>\n",
       "      <td>3250</td>\n",
       "      <td>123,3666666</td>\n",
       "      <td>-75,1166666</td>\n",
       "      <td>1991</td>\n",
       "      <td>4</td>\n",
       "      <td>-55.71</td>\n",
       "      <td>-52.00</td>\n",
       "      <td>-59.18</td>\n",
       "    </tr>\n",
       "    <tr>\n",
       "      <th>4</th>\n",
       "      <td>89828099999</td>\n",
       "      <td>3250</td>\n",
       "      <td>123,3666666</td>\n",
       "      <td>-75,1166666</td>\n",
       "      <td>1991</td>\n",
       "      <td>5</td>\n",
       "      <td>-67.32</td>\n",
       "      <td>-64.70</td>\n",
       "      <td>-69.42</td>\n",
       "    </tr>\n",
       "    <tr>\n",
       "      <th>...</th>\n",
       "      <td>...</td>\n",
       "      <td>...</td>\n",
       "      <td>...</td>\n",
       "      <td>...</td>\n",
       "      <td>...</td>\n",
       "      <td>...</td>\n",
       "      <td>...</td>\n",
       "      <td>...</td>\n",
       "      <td>...</td>\n",
       "    </tr>\n",
       "    <tr>\n",
       "      <th>365</th>\n",
       "      <td>89828099999</td>\n",
       "      <td>3250</td>\n",
       "      <td>123,367</td>\n",
       "      <td>-75,117</td>\n",
       "      <td>2021</td>\n",
       "      <td>6</td>\n",
       "      <td>-61.79</td>\n",
       "      <td>-57.07</td>\n",
       "      <td>-66.01</td>\n",
       "    </tr>\n",
       "    <tr>\n",
       "      <th>366</th>\n",
       "      <td>89828099999</td>\n",
       "      <td>3250</td>\n",
       "      <td>123,367</td>\n",
       "      <td>-75,117</td>\n",
       "      <td>2021</td>\n",
       "      <td>7</td>\n",
       "      <td>-60.68</td>\n",
       "      <td>-54.93</td>\n",
       "      <td>-65.81</td>\n",
       "    </tr>\n",
       "    <tr>\n",
       "      <th>367</th>\n",
       "      <td>89828099999</td>\n",
       "      <td>3250</td>\n",
       "      <td>123,367</td>\n",
       "      <td>-75,117</td>\n",
       "      <td>2021</td>\n",
       "      <td>8</td>\n",
       "      <td>-54.64</td>\n",
       "      <td>-48.78</td>\n",
       "      <td>-59.65</td>\n",
       "    </tr>\n",
       "    <tr>\n",
       "      <th>368</th>\n",
       "      <td>89828099999</td>\n",
       "      <td>3250</td>\n",
       "      <td>123,367</td>\n",
       "      <td>-75,117</td>\n",
       "      <td>2021</td>\n",
       "      <td>9</td>\n",
       "      <td>-59.43</td>\n",
       "      <td>-51.82</td>\n",
       "      <td>-65.29</td>\n",
       "    </tr>\n",
       "    <tr>\n",
       "      <th>369</th>\n",
       "      <td>89828099999</td>\n",
       "      <td>3250</td>\n",
       "      <td>123,367</td>\n",
       "      <td>-75,117</td>\n",
       "      <td>2021</td>\n",
       "      <td>10</td>\n",
       "      <td>-44.14</td>\n",
       "      <td>-36.74</td>\n",
       "      <td>-51.52</td>\n",
       "    </tr>\n",
       "  </tbody>\n",
       "</table>\n",
       "<p>356 rows × 9 columns</p>\n",
       "</div>"
      ],
      "text/plain": [
       "     numéro de site  Altitude (m)    longitude     latitude  années  mois  \\\n",
       "0       89828099999          3250  123,3666666  -75,1166666    1991     1   \n",
       "1       89828099999          3250  123,3666666  -75,1166666    1991     2   \n",
       "2       89828099999          3250  123,3666666  -75,1166666    1991     3   \n",
       "3       89828099999          3250  123,3666666  -75,1166666    1991     4   \n",
       "4       89828099999          3250  123,3666666  -75,1166666    1991     5   \n",
       "..              ...           ...          ...          ...     ...   ...   \n",
       "365     89828099999          3250      123,367      -75,117    2021     6   \n",
       "366     89828099999          3250      123,367      -75,117    2021     7   \n",
       "367     89828099999          3250      123,367      -75,117    2021     8   \n",
       "368     89828099999          3250      123,367      -75,117    2021     9   \n",
       "369     89828099999          3250      123,367      -75,117    2021    10   \n",
       "\n",
       "     Température moyenne (℃)  Température maximale moyenne (℃)  \\\n",
       "0                     -29.35                            -24.04   \n",
       "1                     -36.94                            -30.27   \n",
       "2                     -50.67                            -44.67   \n",
       "3                     -55.71                            -52.00   \n",
       "4                     -67.32                            -64.70   \n",
       "..                       ...                               ...   \n",
       "365                   -61.79                            -57.07   \n",
       "366                   -60.68                            -54.93   \n",
       "367                   -54.64                            -48.78   \n",
       "368                   -59.43                            -51.82   \n",
       "369                   -44.14                            -36.74   \n",
       "\n",
       "     Température minimale moyenne (℃)  \n",
       "0                              -36.26  \n",
       "1                              -44.17  \n",
       "2                              -55.84  \n",
       "3                              -59.18  \n",
       "4                              -69.42  \n",
       "..                                ...  \n",
       "365                            -66.01  \n",
       "366                            -65.81  \n",
       "367                            -59.65  \n",
       "368                            -65.29  \n",
       "369                            -51.52  \n",
       "\n",
       "[356 rows x 9 columns]"
      ]
     },
     "execution_count": 4,
     "metadata": {},
     "output_type": "execute_result"
    }
   ],
   "source": [
    "#Supression des valeurs manquantes, remplacer les virgules pas des points et transformer tous les résultats en float\n",
    "df2[\"Température moyenne (℃)\"] = df2[\"Température moyenne (℃)\"].dropna()\n",
    "df2[\"Température moyenne (℃)\"] = df2[\"Température moyenne (℃)\"].str.replace(\",\",\".\")\n",
    "df2[\"Température moyenne (℃)\"] = df2[\"Température moyenne (℃)\"].astype(\"float\")\n",
    "df2[\"Température maximale moyenne (℃)\"] = df2[\"Température maximale moyenne (℃)\"].dropna()\n",
    "df2[\"Température maximale moyenne (℃)\"] = df2[\"Température maximale moyenne (℃)\"].str.replace(\",\",\".\")\n",
    "df2[\"Température maximale moyenne (℃)\"] = df2[\"Température maximale moyenne (℃)\"].astype(\"float\")\n",
    "df2[\"Température minimale moyenne (℃)\"] = df2[\"Température minimale moyenne (℃)\"].dropna()\n",
    "df2[\"Température minimale moyenne (℃)\"] = df2[\"Température minimale moyenne (℃)\"].str.replace(\",\",\".\")\n",
    "df2[\"Température minimale moyenne (℃)\"] = df2[\"Température minimale moyenne (℃)\"].astype(\"float\")\n",
    "df2 = df2[df2[\"Température maximale moyenne (℃)\"].notna()]\n",
    "df2 = df2[df2[\"Température minimale moyenne (℃)\"].notna()]\n",
    "df2 = df2[df2[\"Température moyenne (℃)\"].notna()]\n",
    "df2"
   ]
  },
  {
   "cell_type": "code",
   "execution_count": 5,
   "metadata": {},
   "outputs": [
    {
     "data": {
      "image/png": "[encoded data removed]",
      "text/plain": [
       "<Figure size 432x288 with 1 Axes>"
      ]
     },
     "metadata": {
      "needs_background": "light"
     },
     "output_type": "display_data"
    }
   ],
   "source": [
    "#Création d'un graphique sur le dossier all18\n",
    "x = np.array(df2.index)\n",
    "y = np.array(df2[\"Température moyenne (℃)\"])\n",
    "plt.plot(x, y)\n",
    "\n",
    "plt.show() "
   ]
  },
  {
   "cell_type": "code",
   "execution_count": 6,
   "metadata": {},
   "outputs": [
    {
     "data": {
      "text/plain": [
       "<seaborn.axisgrid.FacetGrid at 0x20a92af1f10>"
      ]
     },
     "execution_count": 6,
     "metadata": {},
     "output_type": "execute_result"
    },
    {
     "data": {
      "image/png": "[encoded data removed]",
      "text/plain": [
       "<Figure size 360x360 with 1 Axes>"
      ]
     },
     "metadata": {
      "needs_background": "light"
     },
     "output_type": "display_data"
    }
   ],
   "source": [
    "#Visualiser années et temp. moyenne\n",
    "sns.lmplot(x=\"années\", y=\"Température moyenne (℃)\", data=df2)"
   ]
  },
  {
   "cell_type": "code",
   "execution_count": 7,
   "metadata": {},
   "outputs": [
    {
     "data": {
      "text/plain": [
       "0   -29.35\n",
       "1   -36.94\n",
       "2   -50.67\n",
       "3   -55.71\n",
       "4   -67.32\n",
       "Name: Température moyenne (℃), dtype: float64"
      ]
     },
     "execution_count": 7,
     "metadata": {},
     "output_type": "execute_result"
    }
   ],
   "source": [
    "#Petite vérification avant de débuter la régression\n",
    "df2.iloc[:,6].head()"
   ]
  },
  {
   "cell_type": "code",
   "execution_count": 8,
   "metadata": {},
   "outputs": [
    {
     "data": {
      "text/html": [
       "<div>\n",
       "<style scoped>\n",
       "    .dataframe tbody tr th:only-of-type {\n",
       "        vertical-align: middle;\n",
       "    }\n",
       "\n",
       "    .dataframe tbody tr th {\n",
       "        vertical-align: top;\n",
       "    }\n",
       "\n",
       "    .dataframe thead th {\n",
       "        text-align: right;\n",
       "    }\n",
       "</style>\n",
       "<table border=\"1\" class=\"dataframe\">\n",
       "  <thead>\n",
       "    <tr style=\"text-align: right;\">\n",
       "      <th></th>\n",
       "      <th>numéro de site</th>\n",
       "      <th>Altitude (m)</th>\n",
       "      <th>années</th>\n",
       "      <th>mois</th>\n",
       "      <th>Température moyenne (℃)</th>\n",
       "      <th>Température maximale moyenne (℃)</th>\n",
       "      <th>Température minimale moyenne (℃)</th>\n",
       "    </tr>\n",
       "  </thead>\n",
       "  <tbody>\n",
       "    <tr>\n",
       "      <th>count</th>\n",
       "      <td>3.560000e+02</td>\n",
       "      <td>356.0</td>\n",
       "      <td>356.000000</td>\n",
       "      <td>356.000000</td>\n",
       "      <td>356.000000</td>\n",
       "      <td>356.000000</td>\n",
       "      <td>356.000000</td>\n",
       "    </tr>\n",
       "    <tr>\n",
       "      <th>mean</th>\n",
       "      <td>8.982810e+10</td>\n",
       "      <td>3250.0</td>\n",
       "      <td>2005.896067</td>\n",
       "      <td>6.533708</td>\n",
       "      <td>-50.456882</td>\n",
       "      <td>-44.738848</td>\n",
       "      <td>-55.916742</td>\n",
       "    </tr>\n",
       "    <tr>\n",
       "      <th>std</th>\n",
       "      <td>0.000000e+00</td>\n",
       "      <td>0.0</td>\n",
       "      <td>8.954211</td>\n",
       "      <td>3.475709</td>\n",
       "      <td>13.303699</td>\n",
       "      <td>14.217607</td>\n",
       "      <td>11.994952</td>\n",
       "    </tr>\n",
       "    <tr>\n",
       "      <th>min</th>\n",
       "      <td>8.982810e+10</td>\n",
       "      <td>3250.0</td>\n",
       "      <td>1991.000000</td>\n",
       "      <td>1.000000</td>\n",
       "      <td>-69.900000</td>\n",
       "      <td>-66.260000</td>\n",
       "      <td>-76.890000</td>\n",
       "    </tr>\n",
       "    <tr>\n",
       "      <th>25%</th>\n",
       "      <td>8.982810e+10</td>\n",
       "      <td>3250.0</td>\n",
       "      <td>1998.000000</td>\n",
       "      <td>3.750000</td>\n",
       "      <td>-61.850000</td>\n",
       "      <td>-57.085000</td>\n",
       "      <td>-65.740000</td>\n",
       "    </tr>\n",
       "    <tr>\n",
       "      <th>50%</th>\n",
       "      <td>8.982810e+10</td>\n",
       "      <td>3250.0</td>\n",
       "      <td>2006.000000</td>\n",
       "      <td>7.000000</td>\n",
       "      <td>-54.420000</td>\n",
       "      <td>-48.580000</td>\n",
       "      <td>-59.600000</td>\n",
       "    </tr>\n",
       "    <tr>\n",
       "      <th>75%</th>\n",
       "      <td>8.982810e+10</td>\n",
       "      <td>3250.0</td>\n",
       "      <td>2013.250000</td>\n",
       "      <td>10.000000</td>\n",
       "      <td>-38.985000</td>\n",
       "      <td>-31.652500</td>\n",
       "      <td>-46.742500</td>\n",
       "    </tr>\n",
       "    <tr>\n",
       "      <th>max</th>\n",
       "      <td>8.982810e+10</td>\n",
       "      <td>3250.0</td>\n",
       "      <td>2021.000000</td>\n",
       "      <td>12.000000</td>\n",
       "      <td>-24.450000</td>\n",
       "      <td>-17.860000</td>\n",
       "      <td>-30.090000</td>\n",
       "    </tr>\n",
       "  </tbody>\n",
       "</table>\n",
       "</div>"
      ],
      "text/plain": [
       "       numéro de site  Altitude (m)       années        mois  \\\n",
       "count    3.560000e+02         356.0   356.000000  356.000000   \n",
       "mean     8.982810e+10        3250.0  2005.896067    6.533708   \n",
       "std      0.000000e+00           0.0     8.954211    3.475709   \n",
       "min      8.982810e+10        3250.0  1991.000000    1.000000   \n",
       "25%      8.982810e+10        3250.0  1998.000000    3.750000   \n",
       "50%      8.982810e+10        3250.0  2006.000000    7.000000   \n",
       "75%      8.982810e+10        3250.0  2013.250000   10.000000   \n",
       "max      8.982810e+10        3250.0  2021.000000   12.000000   \n",
       "\n",
       "       Température moyenne (℃)  Température maximale moyenne (℃)  \\\n",
       "count               356.000000                        356.000000   \n",
       "mean                -50.456882                        -44.738848   \n",
       "std                  13.303699                         14.217607   \n",
       "min                 -69.900000                        -66.260000   \n",
       "25%                 -61.850000                        -57.085000   \n",
       "50%                 -54.420000                        -48.580000   \n",
       "75%                 -38.985000                        -31.652500   \n",
       "max                 -24.450000                        -17.860000   \n",
       "\n",
       "       Température minimale moyenne (℃)  \n",
       "count                        356.000000  \n",
       "mean                         -55.916742  \n",
       "std                           11.994952  \n",
       "min                          -76.890000  \n",
       "25%                          -65.740000  \n",
       "50%                          -59.600000  \n",
       "75%                          -46.742500  \n",
       "max                          -30.090000  "
      ]
     },
     "execution_count": 8,
     "metadata": {},
     "output_type": "execute_result"
    }
   ],
   "source": [
    "#Début de la regression linéaire sur all18(df2)\n",
    "df2.describe()"
   ]
  },
  {
   "cell_type": "code",
   "execution_count": 9,
   "metadata": {},
   "outputs": [
    {
     "name": "stdout",
     "output_type": "stream",
     "text": [
      "(356, 9)\n",
      "        numéro de site  Altitude (m)    longitude     latitude       années  \\\n",
      "count     3.560000e+02         356.0          356          356   356.000000   \n",
      "unique             NaN           NaN            2            2          NaN   \n",
      "top                NaN           NaN  123,3666666  -75,1166666          NaN   \n",
      "freq               NaN           NaN          346          346          NaN   \n",
      "mean      8.982810e+10        3250.0          NaN          NaN  2005.896067   \n",
      "std       0.000000e+00           0.0          NaN          NaN     8.954211   \n",
      "min       8.982810e+10        3250.0          NaN          NaN  1991.000000   \n",
      "25%       8.982810e+10        3250.0          NaN          NaN  1998.000000   \n",
      "50%       8.982810e+10        3250.0          NaN          NaN  2006.000000   \n",
      "75%       8.982810e+10        3250.0          NaN          NaN  2013.250000   \n",
      "max       8.982810e+10        3250.0          NaN          NaN  2021.000000   \n",
      "\n",
      "              mois  Température moyenne (℃)  Température maximale moyenne (℃)  \\\n",
      "count   356.000000               356.000000                        356.000000   \n",
      "unique         NaN                      NaN                               NaN   \n",
      "top            NaN                      NaN                               NaN   \n",
      "freq           NaN                      NaN                               NaN   \n",
      "mean      6.533708               -50.456882                        -44.738848   \n",
      "std       3.475709                13.303699                         14.217607   \n",
      "min       1.000000               -69.900000                        -66.260000   \n",
      "25%       3.750000               -61.850000                        -57.085000   \n",
      "50%       7.000000               -54.420000                        -48.580000   \n",
      "75%      10.000000               -38.985000                        -31.652500   \n",
      "max      12.000000               -24.450000                        -17.860000   \n",
      "\n",
      "        Température minimale moyenne (℃)  \n",
      "count                         356.000000  \n",
      "unique                               NaN  \n",
      "top                                  NaN  \n",
      "freq                                 NaN  \n",
      "mean                          -55.916742  \n",
      "std                            11.994952  \n",
      "min                           -76.890000  \n",
      "25%                           -65.740000  \n",
      "50%                           -59.600000  \n",
      "75%                           -46.742500  \n",
      "max                           -30.090000  \n"
     ]
    }
   ],
   "source": [
    "#Vérification et voir la forme du jeu de donnée\n",
    "print(df2.shape)\n",
    "print(df2.describe(include=\"all\"))"
   ]
  },
  {
   "cell_type": "code",
   "execution_count": 10,
   "metadata": {},
   "outputs": [
    {
     "data": {
      "text/plain": [
       "numéro de site                      False\n",
       "Altitude (m)                        False\n",
       "longitude                           False\n",
       "latitude                            False\n",
       "années                              False\n",
       "mois                                False\n",
       "Température moyenne (℃)             False\n",
       "Température maximale moyenne (℃)    False\n",
       "Température minimale moyenne (℃)    False\n",
       "dtype: bool"
      ]
     },
     "execution_count": 10,
     "metadata": {},
     "output_type": "execute_result"
    }
   ],
   "source": [
    "#Vérifier qu'il ne reste aucune valeur manquante\n",
    "df2.isnull().any()"
   ]
  },
  {
   "cell_type": "code",
   "execution_count": 11,
   "metadata": {},
   "outputs": [
    {
     "name": "stdout",
     "output_type": "stream",
     "text": [
      "Separating target variable from features...\n",
      "...Done.\n",
      "\n"
     ]
    }
   ],
   "source": [
    "#Cible distincte et variable de fonctionnalité\n",
    "print(\"Separating target variable from features...\")\n",
    "\n",
    "features_list = [\"années\", \"mois\", \"Température maximale moyenne (℃)\", \"Température minimale moyenne (℃)\"]\n",
    "\n",
    "X = df2.loc[:,features_list]  \n",
    "y = df2.loc[:,\"Température moyenne (℃)\"] \n",
    "\n",
    "print(\"...Done.\")\n",
    "print()"
   ]
  },
  {
   "cell_type": "code",
   "execution_count": 12,
   "metadata": {},
   "outputs": [
    {
     "name": "stdout",
     "output_type": "stream",
     "text": [
      "Splitting dataset into train set and test set...\n",
      "...Done.\n"
     ]
    }
   ],
   "source": [
    "#Diviser les données en ensemble d'entraînement et de test\n",
    "print(\"Splitting dataset into train set and test set...\")\n",
    "X_train, X_test, y_train, y_test = train_test_split(X, y, \n",
    "                                                    test_size=0.2, \n",
    "                                                    random_state=0, \n",
    "                                                    ) \n",
    "\n",
    "print(\"...Done.\")    "
   ]
  },
  {
   "cell_type": "code",
   "execution_count": 13,
   "metadata": {},
   "outputs": [
    {
     "name": "stdout",
     "output_type": "stream",
     "text": [
      "#### X_train BEFORE preprocessing ####\n",
      "     années  mois  Température maximale moyenne (℃)  \\\n",
      "256    2012     5                            -59.49   \n",
      "324    2018     1                            -20.97   \n",
      "351    2020     4                            -52.76   \n",
      "146    2003     3                            -47.41   \n",
      "21     1992    10                            -45.76   \n",
      "\n",
      "     Température minimale moyenne (℃)  \n",
      "256                            -67.64  \n",
      "324                            -33.67  \n",
      "351                            -62.16  \n",
      "146                            -58.44  \n",
      "21                             -63.19  \n",
      "\n",
      "Encoding categorical features and standardizing numerical features...\n",
      "...Done.\n",
      "#### X_train AFTER preprocessing ####\n",
      "[[ 0.63063147 -0.42788451 -1.04390676 -0.9777402 ]\n",
      " [ 1.28787675 -1.57972528  1.68694344  1.88580825]\n",
      " [ 1.50695851 -0.7158447  -0.56678781 -0.51579597]\n",
      " [-0.35523645 -1.00380489 -0.18750306 -0.20221339]\n",
      " [-1.56018612  1.01191645 -0.07052739 -0.60262126]]\n",
      "\n"
     ]
    }
   ],
   "source": [
    "#Standardiser nos données\n",
    "print(\"#### X_train BEFORE preprocessing ####\")\n",
    "print(X_train.head())\n",
    "print()\n",
    "\n",
    "print(\"Encoding categorical features and standardizing numerical features...\")\n",
    "numeric_features = [0, 1, 2, 3] \n",
    "numeric_transformer = StandardScaler()\n",
    "\n",
    "feature_encoder = ColumnTransformer(\n",
    "    transformers=[ \n",
    "        ('num', numeric_transformer, numeric_features)\n",
    "        ]\n",
    "    )\n",
    "\n",
    "X_train = feature_encoder.fit_transform(X_train)\n",
    "print(\"...Done.\")\n",
    "print(\"#### X_train AFTER preprocessing ####\")\n",
    "print(X_train[0:5,0:5]) # print first 5 rows (not using iloc since now X_train became a numpy array)\n",
    "print()"
   ]
  },
  {
   "cell_type": "code",
   "execution_count": 14,
   "metadata": {},
   "outputs": [
    {
     "name": "stdout",
     "output_type": "stream",
     "text": [
      "Train model...\n",
      "...Done.\n"
     ]
    }
   ],
   "source": [
    "#Construire notre modèle\n",
    "print(\"Train model...\")\n",
    "regressor = LinearRegression()\n",
    "regressor.fit(X_train, y_train)\n",
    "print(\"...Done.\")"
   ]
  },
  {
   "cell_type": "code",
   "execution_count": 15,
   "metadata": {},
   "outputs": [
    {
     "name": "stdout",
     "output_type": "stream",
     "text": [
      "Final accuracy score on Test set:  -2140.0000709110695\n",
      "Predictions on training set...\n",
      "...Done.\n",
      "[-63.92031848 -26.95428853 -57.69668599 -53.16444277 -54.89526382]\n",
      "\n"
     ]
    },
    {
     "name": "stderr",
     "output_type": "stream",
     "text": [
      "c:\\Python39\\lib\\site-packages\\sklearn\\base.py:443: UserWarning: X has feature names, but LinearRegression was fitted without feature names\n",
      "  warnings.warn(\n"
     ]
    }
   ],
   "source": [
    "#Tester notre modèle et voir les prédictions\n",
    "print(\"Final accuracy score on Test set: \",regressor.score(X_test, y_test))\n",
    "\n",
    "print(\"Predictions on training set...\")\n",
    "y_train_pred = regressor.predict(X_train)\n",
    "print(\"...Done.\")\n",
    "print(y_train_pred[:5])\n",
    "print()"
   ]
  },
  {
   "cell_type": "code",
   "execution_count": 16,
   "metadata": {},
   "outputs": [
    {
     "name": "stdout",
     "output_type": "stream",
     "text": [
      "--- Testing pipeline ---\n",
      "Standardizing numerical features...\n",
      "     années  mois  Température maximale moyenne (℃)  \\\n",
      "6      1991     7                            -56.17   \n",
      "144    2003     1                            -21.36   \n",
      "316    2017     5                            -54.29   \n",
      "229    2010     2                            -32.59   \n",
      "94     1998    11                            -31.68   \n",
      "..      ...   ...                               ...   \n",
      "168    2005     1                            -21.34   \n",
      "160    2004     5                            -60.65   \n",
      "205    2008     2                            -37.75   \n",
      "67     1996     8                            -52.22   \n",
      "313    2017     2                            -27.50   \n",
      "\n",
      "     Température minimale moyenne (℃)  \n",
      "6                              -61.92  \n",
      "144                            -34.28  \n",
      "316                            -64.18  \n",
      "229                            -49.17  \n",
      "94                             -45.26  \n",
      "..                                ...  \n",
      "168                            -34.84  \n",
      "160                            -67.83  \n",
      "205                            -51.09  \n",
      "67                             -59.94  \n",
      "313                            -43.74  \n",
      "\n",
      "[72 rows x 4 columns]\n",
      "\n",
      "...Done.\n",
      "[[-1.669727    0.14803587 -0.80853753 -0.49556484]\n",
      " [-0.35523645 -1.57972528  1.65929464  1.83438745]\n",
      " [ 1.17833587 -0.42788451 -0.67525616 -0.68607468]\n",
      " [ 0.41154971 -1.29176509  0.86315114  0.57921417]\n",
      " [-0.90294084  1.29987664  0.92766499  0.90881306]]\n",
      "\n",
      "Predictions on test set...\n",
      "...Done.\n",
      "[-59.22766302 -27.51556369 -59.52638275 -41.00073449 -38.31641271]\n",
      "\n"
     ]
    }
   ],
   "source": [
    "#Pareil pour l'ensemble des données et comparer les performances\n",
    "print(\"--- Testing pipeline ---\")\n",
    "\n",
    "print(\"Standardizing numerical features...\")\n",
    "print(X_test)\n",
    "print()\n",
    "\n",
    "X_test = feature_encoder.transform(X_test)\n",
    "\n",
    "print(\"...Done.\")\n",
    "print(X_test[:5])\n",
    "print()\n",
    "\n",
    "print(\"Predictions on test set...\")\n",
    "y_test_pred = regressor.predict(X_test)\n",
    "print(\"...Done.\")\n",
    "print(y_test_pred[:5])\n",
    "print()"
   ]
  },
  {
   "cell_type": "code",
   "execution_count": 17,
   "metadata": {},
   "outputs": [
    {
     "name": "stdout",
     "output_type": "stream",
     "text": [
      "--- Assessing the performances of the model ---\n",
      "R2 score on training set :  0.9992418362612934\n",
      "R2 score on test set :  0.9992756989952031\n"
     ]
    }
   ],
   "source": [
    "#Voir les scores de notre modèle sur le train et l'ensemble de test avec la méthode R2 grâce à sklearn\n",
    "print(\"--- Assessing the performances of the model ---\")\n",
    "\n",
    "print(\"R2 score on training set : \", regressor.score(X_train, y_train))\n",
    "print(\"R2 score on test set : \", regressor.score(X_test, y_test))"
   ]
  },
  {
   "cell_type": "markdown",
   "metadata": {},
   "source": [
    "### On peut voir que le résultat sur le test set est très proche de 1, ce qui veut dire que notre modèle est performant."
   ]
  }
 ],
 "metadata": {
  "kernelspec": {
   "display_name": "Python 3.9.2 64-bit",
   "language": "python",
   "name": "python3"
  },
  "language_info": {
   "codemirror_mode": {
    "name": "ipython",
    "version": 3
   },
   "file_extension": ".py",
   "mimetype": "text/x-python",
   "name": "python",
   "nbconvert_exporter": "python",
   "pygments_lexer": "ipython3",
   "version": "3.9.2"
  },
  "orig_nbformat": 4,
  "vscode": {
   "interpreter": {
    "hash": "81794d4967e6c3204c66dcd87b604927b115b27c00565d3d43f05ba2f3a2cb0d"
   }
  }
 },
 "nbformat": 4,
 "nbformat_minor": 2
}
